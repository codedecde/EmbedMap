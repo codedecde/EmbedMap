{
 "cells": [
  {
   "cell_type": "code",
   "execution_count": 1,
   "metadata": {},
   "outputs": [],
   "source": [
    "import numpy as np\n",
    "import os\n",
    "from collections import OrderedDict\n",
    "import io\n",
    "import pdb\n",
    "from csls import CSLS\n",
    "from data import Language, WordDictionary\n",
    "from utils import to_numpy"
   ]
  },
  {
   "cell_type": "code",
   "execution_count": 2,
   "metadata": {},
   "outputs": [],
   "source": [
    "# Constants\n",
    "BASE_DIR = \"data\"\n",
    "CROSSLINGUAL = os.path.join(BASE_DIR, \"crosslingual\", \"dictionaries\")\n",
    "src = \"en\"\n",
    "tgt = \"zh\"\n",
    "train_file_path = os.path.join(CROSSLINGUAL, f\"{src}-{tgt}.0-5000.txt\")\n",
    "eval_file_path = os.path.join(CROSSLINGUAL, f\"{src}-{tgt}.5000-6500.txt\")\n",
    "\n",
    "params = OrderedDict()\n",
    "params[\"src\"] = OrderedDict()\n",
    "params[\"src\"][\"mean_center\"] = True\n",
    "params[\"src\"][\"unit_norm\"] = True\n",
    "params[\"tgt\"] = OrderedDict()\n",
    "params[\"tgt\"][\"mean_center\"] = True\n",
    "params[\"tgt\"][\"unit_norm\"] = True"
   ]
  },
  {
   "cell_type": "code",
   "execution_count": 3,
   "metadata": {},
   "outputs": [],
   "source": [
    "languages = OrderedDict()\n",
    "gpu = False\n",
    "languages[src] = Language(src, gpu, **params[\"src\"])\n",
    "languages[src].load(f\"wiki.{src}.vec\", \"data\")\n",
    "languages[tgt] = Language(tgt, gpu, **params[\"tgt\"])\n",
    "languages[tgt].load(f\"wiki.{tgt}.vec\", \"data\")"
   ]
  },
  {
   "cell_type": "code",
   "execution_count": 4,
   "metadata": {},
   "outputs": [],
   "source": [
    "training_mapping = WordDictionary(languages[src], languages[tgt], train_file_path)"
   ]
  },
  {
   "cell_type": "code",
   "execution_count": 5,
   "metadata": {},
   "outputs": [],
   "source": [
    "unique_src, src_indices = np.unique(training_mapping.word_map[:, 0], return_inverse=True)\n",
    "unique_tgt, tgt_indices = np.unique(training_mapping.word_map[:, 1], return_inverse=True)\n",
    "A = np.zeros((unique_src.shape[0], unique_tgt.shape[0]))\n",
    "for six, tix in zip(src_indices, tgt_indices):\n",
    "    A[six, tix] = 1\n",
    "# A : number of unique src tgt pairs.\n",
    "# A[i, j] is 1 unique_src[i] and unique_tgt[j] are aligned, 0 otherwise\n",
    "Xs = languages[src].get_embeddings(unique_src)\n",
    "Xt = languages[tgt].get_embeddings(unique_tgt)"
   ]
  },
  {
   "cell_type": "markdown",
   "metadata": {},
   "source": [
    "# Procrustes Solution"
   ]
  },
  {
   "cell_type": "code",
   "execution_count": null,
   "metadata": {},
   "outputs": [],
   "source": [
    "import torch\n",
    "from torch.autograd import Variable\n",
    "from torch import Tensor"
   ]
  },
  {
   "cell_type": "code",
   "execution_count": null,
   "metadata": {},
   "outputs": [],
   "source": [
    "matrix = torch.mm(Xs.transpose(1, 0), Xt)\n",
    "u, _, v = torch.svd(matrix)\n",
    "mapping_matrix = torch.mm(u, v.t())\n",
    "def mapfunction(mapping_matrix):\n",
    "    def map_embeddings(src_embed):\n",
    "        return torch.mm(src_embed, mapping_matrix)\n",
    "    return map_embeddings\n",
    "map_fn = mapfunction(mapping_matrix)\n",
    "src_embeddings = languages[src].embeddings\n",
    "tgt_embeddings = languages[tgt].embeddings\n",
    "src_transform = to_numpy(map_fn(src_embeddings), gpu)\n",
    "tgt_transform = to_numpy(tgt_embeddings, gpu)"
   ]
  },
  {
   "cell_type": "code",
   "execution_count": null,
   "metadata": {},
   "outputs": [],
   "source": [
    "optval = ((torch.mm(Xs, mapping_matrix) - Xt) ** 2).sum()\n",
    "print(optval)"
   ]
  },
  {
   "cell_type": "markdown",
   "metadata": {},
   "source": [
    "# Procrustes Optimization"
   ]
  },
  {
   "cell_type": "code",
   "execution_count": null,
   "metadata": {},
   "outputs": [],
   "source": [
    "import autograd.numpy as anp\n",
    "from pymanopt.manifolds import Product, Stiefel, PositiveDefinite\n",
    "from pymanopt import Problem\n",
    "from pymanopt.solvers import SteepestDescent, ConjugateGradient\n",
    "import os"
   ]
  },
  {
   "cell_type": "code",
   "execution_count": null,
   "metadata": {},
   "outputs": [],
   "source": [
    "os.environ['CUDA_VISIBLE_DEVICES'] = ''"
   ]
  },
  {
   "cell_type": "code",
   "execution_count": null,
   "metadata": {},
   "outputs": [],
   "source": [
    "Xs_numpy = to_numpy(Xs, gpu)\n",
    "Xt_numpy = to_numpy(Xt, gpu)\n",
    "ns, d = Xs.shape\n",
    "nt, d = Xt.shape"
   ]
  },
  {
   "cell_type": "code",
   "execution_count": null,
   "metadata": {},
   "outputs": [],
   "source": [
    "manifold = Product([Stiefel(d, d)])\n",
    "def ProcrustesCost(Xs, Xt):\n",
    "    def ProcrustesCostHelper(theta):\n",
    "        Us = theta[0]\n",
    "        XUs = anp.dot(Xs, Us)\n",
    "        cost = ((Xt - XUs) ** 2).sum()\n",
    "        return cost\n",
    "    return ProcrustesCostHelper"
   ]
  },
  {
   "cell_type": "code",
   "execution_count": null,
   "metadata": {},
   "outputs": [],
   "source": [
    "cost_fn = ProcrustesCost(Xs_numpy, Xt_numpy)\n",
    "problem = Problem(manifold=manifold, cost=cost_fn)"
   ]
  },
  {
   "cell_type": "code",
   "execution_count": null,
   "metadata": {},
   "outputs": [],
   "source": [
    "solver = ConjugateGradient(maxtime=float('inf'), maxiter=2000)\n",
    "theta = solver.solve(problem)"
   ]
  },
  {
   "cell_type": "code",
   "execution_count": null,
   "metadata": {},
   "outputs": [],
   "source": [
    "src_embeddings = to_numpy(languages[src].embeddings, gpu)\n",
    "tgt_embeddings = to_numpy(languages[tgt].embeddings, gpu)\n",
    "src_transform = np.dot(src_embeddings, theta[0])\n",
    "tgt_transform = tgt_embeddings"
   ]
  },
  {
   "cell_type": "code",
   "execution_count": null,
   "metadata": {},
   "outputs": [],
   "source": [
    "os.environ['CUDA_VISIBLE_DEVICES'] = '0'"
   ]
  },
  {
   "cell_type": "markdown",
   "metadata": {},
   "source": [
    "# Manifold Learning"
   ]
  },
  {
   "cell_type": "code",
   "execution_count": 6,
   "metadata": {},
   "outputs": [
    {
     "name": "stderr",
     "output_type": "stream",
     "text": [
      "Can not use cuDNN on context None: cannot compile with cuDNN. We got this error:\n",
      "b'/tmp/try_flags_qc6hnuxa.c:4:19: fatal error: cudnn.h: No such file or directory\\n #include <cudnn.h>\\n                   ^\\ncompilation terminated.\\n'\n",
      "Mapped name None to device cuda: TITAN X (Pascal) (0000:02:00.0)\n"
     ]
    }
   ],
   "source": [
    "# Now the Manifold learning part\n",
    "import autograd.numpy as np\n",
    "from pymanopt.manifolds import Product, Stiefel, PositiveDefinite\n",
    "from pymanopt import Problem\n",
    "from pymanopt.solvers import SteepestDescent, ConjugateGradient\n",
    "import os\n",
    "import theano\n",
    "from theano import shared\n",
    "import theano.tensor as T\n",
    "os.environ['CUDA_VISIBLE_DEVICES'] = \"0\"\n",
    "# import tensorflow as tf"
   ]
  },
  {
   "cell_type": "code",
   "execution_count": 7,
   "metadata": {},
   "outputs": [
    {
     "name": "stdout",
     "output_type": "stream",
     "text": [
      "5000 6599 300\n"
     ]
    }
   ],
   "source": [
    "Xs_numpy = to_numpy(Xs, gpu)\n",
    "Xt_numpy = to_numpy(Xt, gpu)\n",
    "ns, d = Xs.shape\n",
    "nt, d = Xt.shape\n",
    "print(ns, nt, d)"
   ]
  },
  {
   "cell_type": "code",
   "execution_count": 8,
   "metadata": {},
   "outputs": [],
   "source": [
    "manifold = Product([Stiefel(d, d), PositiveDefinite(d), Stiefel(d, d)])"
   ]
  },
  {
   "cell_type": "code",
   "execution_count": 9,
   "metadata": {},
   "outputs": [],
   "source": [
    "# From the paper directly\n",
    "# def cost_paper(Xs_t, Xt_t, lbda=10):\n",
    "#     Xs = Xs_t.transpose()  # d x n1\n",
    "#     Xt = Xt_t.transpose()  # d x n2\n",
    "#     XsXs_t = np.dot(Xs, Xs.transpose())\n",
    "#     XtXt_t = np.dot(Xt, Xt.transpose())\n",
    "#     def cost_helper(theta):\n",
    "#         Us = theta[0]\n",
    "#         B = theta[1]\n",
    "#         Ut = theta[2]\n",
    "#         UtBUs_t = np.dot(np.dot(Ut, B), Us.transpose())\n",
    "#         partial = np.dot(UtBUs_t, XsXs_t)\n",
    "#         partial = np.dot(partial, UtBUs_t.transpose())\n",
    "#         partial = np.dot(partial, XtXt_t)\n",
    "#         tracecost = np.trace(partial)\n",
    "#         simcost = 0\n",
    "#         for ix in range(Xs.shape[0]):\n",
    "#             simcost += np.dot(np.dot(Xs[:, ix], UtBUs_t.transpose()), Xt[:, ix])\n",
    "#         simcost = -2 * simcost\n",
    "#         regcost = lbda * (B ** 2).sum()\n",
    "#         return regcost + simcost + tracecost\n",
    "#     return cost_helper\n",
    "U1 = T.matrix()\n",
    "U2 = T.matrix()\n",
    "B = T.matrix()\n",
    "Lambda = 1e3\n",
    "cost = T.sum(\n",
    "                ((shared(Xs_numpy).dot(U1.dot(B.dot(U2.T)))).dot(\n",
    "                    shared(Xt_numpy).T) - A)**2)\n",
    "cost += 0.5 * Lambda * (T.sum(B**2))"
   ]
  },
  {
   "cell_type": "code",
   "execution_count": 10,
   "metadata": {},
   "outputs": [],
   "source": [
    "max_opt_time = 5000\n",
    "max_opt_iter = 150\n",
    "solver = ConjugateGradient(\n",
    "            maxtime=max_opt_time, maxiter=max_opt_iter)\n",
    "problem = Problem(manifold=manifold, cost=cost, arg=[U1, B, U2], verbosity=3)"
   ]
  },
  {
   "cell_type": "code",
   "execution_count": 11,
   "metadata": {},
   "outputs": [
    {
     "name": "stdout",
     "output_type": "stream",
     "text": [
      "Compiling cost function...\n",
      "Computing gradient of cost function...\n",
      "Optimizing...\n",
      " iter\t\t   cost val\t    grad. norm\n"
     ]
    },
    {
     "ename": "GpuArrayException",
     "evalue": "b'cuMemAlloc: CUDA_ERROR_OUT_OF_MEMORY: out of memory'\nApply node that caused the error: GpuDot22(GpuDot22.0, InplaceGpuDimShuffle{1,0}.0)\nToposort index: 9\nInputs types: [GpuArrayType<None>(float32, matrix), GpuArrayType<None>(float32, matrix)]\nInputs shapes: [(5000, 300), (300, 6599)]\nInputs strides: [(1200, 4), (4, 1200)]\nInputs values: ['not shown', 'not shown']\nOutputs clients: [[GpuElemwise{sub,no_inplace}(GpuDot22.0, GpuArrayConstant{[[0. 0. 0. ... 0. 0. 0.]\n [0. 0. 0. ... 0. 0. 0.]\n [0. 0. 0. ... 0. 0. 0.]\n ...\n [0. 0. 0. ... 0. 0. 0.]\n [0. 0. 0. ... 0. 0. 0.]\n [0. 0. 0. ... 0. 0. 0.]]})]]\n\nBacktrace when the node is created(use Theano flag traceback.limit=N to make it longer):\n  File \"/zfsauton/home/bpatra/miniconda3/lib/python3.6/site-packages/ipykernel/kernelbase.py\", line 399, in execute_request\n    user_expressions, allow_stdin)\n  File \"/zfsauton/home/bpatra/miniconda3/lib/python3.6/site-packages/ipykernel/ipkernel.py\", line 208, in do_execute\n    res = shell.run_cell(code, store_history=store_history, silent=silent)\n  File \"/zfsauton/home/bpatra/miniconda3/lib/python3.6/site-packages/ipykernel/zmqshell.py\", line 537, in run_cell\n    return super(ZMQInteractiveShell, self).run_cell(*args, **kwargs)\n  File \"/zfsauton/home/bpatra/miniconda3/lib/python3.6/site-packages/IPython/core/interactiveshell.py\", line 2662, in run_cell\n    raw_cell, store_history, silent, shell_futures)\n  File \"/zfsauton/home/bpatra/miniconda3/lib/python3.6/site-packages/IPython/core/interactiveshell.py\", line 2785, in _run_cell\n    interactivity=interactivity, compiler=compiler, result=result)\n  File \"/zfsauton/home/bpatra/miniconda3/lib/python3.6/site-packages/IPython/core/interactiveshell.py\", line 2901, in run_ast_nodes\n    if self.run_code(code, result):\n  File \"/zfsauton/home/bpatra/miniconda3/lib/python3.6/site-packages/IPython/core/interactiveshell.py\", line 2961, in run_code\n    exec(code_obj, self.user_global_ns, self.user_ns)\n  File \"<ipython-input-9-9ba9006b3274>\", line 29, in <module>\n    shared(Xt_numpy).T) - A)**2)\n  File \"/zfsauton/home/bpatra/miniconda3/lib/python3.6/site-packages/ipykernel/kernelbase.py\", line 399, in execute_request\n    user_expressions, allow_stdin)\n  File \"/zfsauton/home/bpatra/miniconda3/lib/python3.6/site-packages/ipykernel/ipkernel.py\", line 208, in do_execute\n    res = shell.run_cell(code, store_history=store_history, silent=silent)\n  File \"/zfsauton/home/bpatra/miniconda3/lib/python3.6/site-packages/ipykernel/zmqshell.py\", line 537, in run_cell\n    return super(ZMQInteractiveShell, self).run_cell(*args, **kwargs)\n  File \"/zfsauton/home/bpatra/miniconda3/lib/python3.6/site-packages/IPython/core/interactiveshell.py\", line 2662, in run_cell\n    raw_cell, store_history, silent, shell_futures)\n  File \"/zfsauton/home/bpatra/miniconda3/lib/python3.6/site-packages/IPython/core/interactiveshell.py\", line 2785, in _run_cell\n    interactivity=interactivity, compiler=compiler, result=result)\n  File \"/zfsauton/home/bpatra/miniconda3/lib/python3.6/site-packages/IPython/core/interactiveshell.py\", line 2901, in run_ast_nodes\n    if self.run_code(code, result):\n  File \"/zfsauton/home/bpatra/miniconda3/lib/python3.6/site-packages/IPython/core/interactiveshell.py\", line 2961, in run_code\n    exec(code_obj, self.user_global_ns, self.user_ns)\n  File \"<ipython-input-9-9ba9006b3274>\", line 29, in <module>\n    shared(Xt_numpy).T) - A)**2)\n\nHINT: Use the Theano flag 'exception_verbosity=high' for a debugprint and storage map footprint of this apply node.",
     "output_type": "error",
     "traceback": [
      "\u001b[0;31m---------------------------------------------------------------------------\u001b[0m",
      "\u001b[0;31mGpuArrayException\u001b[0m                         Traceback (most recent call last)",
      "\u001b[0;32m~/miniconda3/lib/python3.6/site-packages/theano/compile/function_module.py\u001b[0m in \u001b[0;36m__call__\u001b[0;34m(self, *args, **kwargs)\u001b[0m\n\u001b[1;32m    902\u001b[0m             \u001b[0moutputs\u001b[0m \u001b[0;34m=\u001b[0m\u001b[0;31m\\\u001b[0m\u001b[0;34m\u001b[0m\u001b[0m\n\u001b[0;32m--> 903\u001b[0;31m                 \u001b[0mself\u001b[0m\u001b[0;34m.\u001b[0m\u001b[0mfn\u001b[0m\u001b[0;34m(\u001b[0m\u001b[0;34m)\u001b[0m \u001b[0;32mif\u001b[0m \u001b[0moutput_subset\u001b[0m \u001b[0;32mis\u001b[0m \u001b[0;32mNone\u001b[0m \u001b[0;32melse\u001b[0m\u001b[0;31m\\\u001b[0m\u001b[0;34m\u001b[0m\u001b[0m\n\u001b[0m\u001b[1;32m    904\u001b[0m                 \u001b[0mself\u001b[0m\u001b[0;34m.\u001b[0m\u001b[0mfn\u001b[0m\u001b[0;34m(\u001b[0m\u001b[0moutput_subset\u001b[0m\u001b[0;34m=\u001b[0m\u001b[0moutput_subset\u001b[0m\u001b[0;34m)\u001b[0m\u001b[0;34m\u001b[0m\u001b[0m\n",
      "\u001b[0;32mpygpu/gpuarray.pyx\u001b[0m in \u001b[0;36mpygpu.gpuarray.pygpu_empty\u001b[0;34m()\u001b[0m\n",
      "\u001b[0;32mpygpu/gpuarray.pyx\u001b[0m in \u001b[0;36mpygpu.gpuarray.array_empty\u001b[0;34m()\u001b[0m\n",
      "\u001b[0;31mGpuArrayException\u001b[0m: b'cuMemAlloc: CUDA_ERROR_OUT_OF_MEMORY: out of memory'",
      "\nDuring handling of the above exception, another exception occurred:\n",
      "\u001b[0;31mGpuArrayException\u001b[0m                         Traceback (most recent call last)",
      "\u001b[0;32m<ipython-input-11-12d06f38ee1f>\u001b[0m in \u001b[0;36m<module>\u001b[0;34m()\u001b[0m\n\u001b[0;32m----> 1\u001b[0;31m \u001b[0mtheta\u001b[0m \u001b[0;34m=\u001b[0m \u001b[0msolver\u001b[0m\u001b[0;34m.\u001b[0m\u001b[0msolve\u001b[0m\u001b[0;34m(\u001b[0m\u001b[0mproblem\u001b[0m\u001b[0;34m)\u001b[0m\u001b[0;34m\u001b[0m\u001b[0m\n\u001b[0m",
      "\u001b[0;32m~/miniconda3/lib/python3.6/site-packages/pymanopt/solvers/conjugate_gradient.py\u001b[0m in \u001b[0;36msolve\u001b[0;34m(self, problem, x, reuselinesearch)\u001b[0m\n\u001b[1;32m     96\u001b[0m \u001b[0;34m\u001b[0m\u001b[0m\n\u001b[1;32m     97\u001b[0m         \u001b[0;31m# Calculate initial cost-related quantities\u001b[0m\u001b[0;34m\u001b[0m\u001b[0;34m\u001b[0m\u001b[0m\n\u001b[0;32m---> 98\u001b[0;31m         \u001b[0mcost\u001b[0m \u001b[0;34m=\u001b[0m \u001b[0mobjective\u001b[0m\u001b[0;34m(\u001b[0m\u001b[0mx\u001b[0m\u001b[0;34m)\u001b[0m\u001b[0;34m\u001b[0m\u001b[0m\n\u001b[0m\u001b[1;32m     99\u001b[0m         \u001b[0mgrad\u001b[0m \u001b[0;34m=\u001b[0m \u001b[0mgradient\u001b[0m\u001b[0;34m(\u001b[0m\u001b[0mx\u001b[0m\u001b[0;34m)\u001b[0m\u001b[0;34m\u001b[0m\u001b[0m\n\u001b[1;32m    100\u001b[0m         \u001b[0mgradnorm\u001b[0m \u001b[0;34m=\u001b[0m \u001b[0mman\u001b[0m\u001b[0;34m.\u001b[0m\u001b[0mnorm\u001b[0m\u001b[0;34m(\u001b[0m\u001b[0mx\u001b[0m\u001b[0;34m,\u001b[0m \u001b[0mgrad\u001b[0m\u001b[0;34m)\u001b[0m\u001b[0;34m\u001b[0m\u001b[0m\n",
      "\u001b[0;32m~/miniconda3/lib/python3.6/site-packages/pymanopt/tools/autodiff/_theano.py\u001b[0m in \u001b[0;36m<lambda>\u001b[0;34m(x)\u001b[0m\n\u001b[1;32m     47\u001b[0m             \u001b[0;31m# Assume we are on a product manifold\u001b[0m\u001b[0;34m\u001b[0m\u001b[0;34m\u001b[0m\u001b[0m\n\u001b[1;32m     48\u001b[0m             \u001b[0mcompiled\u001b[0m \u001b[0;34m=\u001b[0m \u001b[0mtheano\u001b[0m\u001b[0;34m.\u001b[0m\u001b[0mfunction\u001b[0m\u001b[0;34m(\u001b[0m\u001b[0;34m[\u001b[0m\u001b[0marg\u001b[0m \u001b[0;32mfor\u001b[0m \u001b[0marg\u001b[0m \u001b[0;32min\u001b[0m \u001b[0margument\u001b[0m\u001b[0;34m]\u001b[0m\u001b[0;34m,\u001b[0m \u001b[0mobjective\u001b[0m\u001b[0;34m,\u001b[0m \u001b[0mallow_input_downcast\u001b[0m\u001b[0;34m=\u001b[0m\u001b[0;32mTrue\u001b[0m\u001b[0;34m)\u001b[0m\u001b[0;34m\u001b[0m\u001b[0m\n\u001b[0;32m---> 49\u001b[0;31m             \u001b[0;32mreturn\u001b[0m \u001b[0;32mlambda\u001b[0m \u001b[0mx\u001b[0m\u001b[0;34m:\u001b[0m \u001b[0mcompiled\u001b[0m\u001b[0;34m(\u001b[0m\u001b[0;34m*\u001b[0m\u001b[0mx\u001b[0m\u001b[0;34m)\u001b[0m\u001b[0;34m\u001b[0m\u001b[0m\n\u001b[0m\u001b[1;32m     50\u001b[0m \u001b[0;34m\u001b[0m\u001b[0m\n\u001b[1;32m     51\u001b[0m     \u001b[0;34m@\u001b[0m\u001b[0massert_backend_available\u001b[0m\u001b[0;34m\u001b[0m\u001b[0m\n",
      "\u001b[0;32m~/miniconda3/lib/python3.6/site-packages/theano/compile/function_module.py\u001b[0m in \u001b[0;36m__call__\u001b[0;34m(self, *args, **kwargs)\u001b[0m\n\u001b[1;32m    915\u001b[0m                     \u001b[0mnode\u001b[0m\u001b[0;34m=\u001b[0m\u001b[0mself\u001b[0m\u001b[0;34m.\u001b[0m\u001b[0mfn\u001b[0m\u001b[0;34m.\u001b[0m\u001b[0mnodes\u001b[0m\u001b[0;34m[\u001b[0m\u001b[0mself\u001b[0m\u001b[0;34m.\u001b[0m\u001b[0mfn\u001b[0m\u001b[0;34m.\u001b[0m\u001b[0mposition_of_error\u001b[0m\u001b[0;34m]\u001b[0m\u001b[0;34m,\u001b[0m\u001b[0;34m\u001b[0m\u001b[0m\n\u001b[1;32m    916\u001b[0m                     \u001b[0mthunk\u001b[0m\u001b[0;34m=\u001b[0m\u001b[0mthunk\u001b[0m\u001b[0;34m,\u001b[0m\u001b[0;34m\u001b[0m\u001b[0m\n\u001b[0;32m--> 917\u001b[0;31m                     storage_map=getattr(self.fn, 'storage_map', None))\n\u001b[0m\u001b[1;32m    918\u001b[0m             \u001b[0;32melse\u001b[0m\u001b[0;34m:\u001b[0m\u001b[0;34m\u001b[0m\u001b[0m\n\u001b[1;32m    919\u001b[0m                 \u001b[0;31m# old-style linkers raise their own exceptions\u001b[0m\u001b[0;34m\u001b[0m\u001b[0;34m\u001b[0m\u001b[0m\n",
      "\u001b[0;32m~/miniconda3/lib/python3.6/site-packages/theano/gof/link.py\u001b[0m in \u001b[0;36mraise_with_op\u001b[0;34m(node, thunk, exc_info, storage_map)\u001b[0m\n\u001b[1;32m    323\u001b[0m         \u001b[0;31m# extra long error message in that case.\u001b[0m\u001b[0;34m\u001b[0m\u001b[0;34m\u001b[0m\u001b[0m\n\u001b[1;32m    324\u001b[0m         \u001b[0;32mpass\u001b[0m\u001b[0;34m\u001b[0m\u001b[0m\n\u001b[0;32m--> 325\u001b[0;31m     \u001b[0mreraise\u001b[0m\u001b[0;34m(\u001b[0m\u001b[0mexc_type\u001b[0m\u001b[0;34m,\u001b[0m \u001b[0mexc_value\u001b[0m\u001b[0;34m,\u001b[0m \u001b[0mexc_trace\u001b[0m\u001b[0;34m)\u001b[0m\u001b[0;34m\u001b[0m\u001b[0m\n\u001b[0m\u001b[1;32m    326\u001b[0m \u001b[0;34m\u001b[0m\u001b[0m\n\u001b[1;32m    327\u001b[0m \u001b[0;34m\u001b[0m\u001b[0m\n",
      "\u001b[0;32m~/miniconda3/lib/python3.6/site-packages/six.py\u001b[0m in \u001b[0;36mreraise\u001b[0;34m(tp, value, tb)\u001b[0m\n\u001b[1;32m    690\u001b[0m                 \u001b[0mvalue\u001b[0m \u001b[0;34m=\u001b[0m \u001b[0mtp\u001b[0m\u001b[0;34m(\u001b[0m\u001b[0;34m)\u001b[0m\u001b[0;34m\u001b[0m\u001b[0m\n\u001b[1;32m    691\u001b[0m             \u001b[0;32mif\u001b[0m \u001b[0mvalue\u001b[0m\u001b[0;34m.\u001b[0m\u001b[0m__traceback__\u001b[0m \u001b[0;32mis\u001b[0m \u001b[0;32mnot\u001b[0m \u001b[0mtb\u001b[0m\u001b[0;34m:\u001b[0m\u001b[0;34m\u001b[0m\u001b[0m\n\u001b[0;32m--> 692\u001b[0;31m                 \u001b[0;32mraise\u001b[0m \u001b[0mvalue\u001b[0m\u001b[0;34m.\u001b[0m\u001b[0mwith_traceback\u001b[0m\u001b[0;34m(\u001b[0m\u001b[0mtb\u001b[0m\u001b[0;34m)\u001b[0m\u001b[0;34m\u001b[0m\u001b[0m\n\u001b[0m\u001b[1;32m    693\u001b[0m             \u001b[0;32mraise\u001b[0m \u001b[0mvalue\u001b[0m\u001b[0;34m\u001b[0m\u001b[0m\n\u001b[1;32m    694\u001b[0m         \u001b[0;32mfinally\u001b[0m\u001b[0;34m:\u001b[0m\u001b[0;34m\u001b[0m\u001b[0m\n",
      "\u001b[0;32m~/miniconda3/lib/python3.6/site-packages/theano/compile/function_module.py\u001b[0m in \u001b[0;36m__call__\u001b[0;34m(self, *args, **kwargs)\u001b[0m\n\u001b[1;32m    901\u001b[0m         \u001b[0;32mtry\u001b[0m\u001b[0;34m:\u001b[0m\u001b[0;34m\u001b[0m\u001b[0m\n\u001b[1;32m    902\u001b[0m             \u001b[0moutputs\u001b[0m \u001b[0;34m=\u001b[0m\u001b[0;31m\\\u001b[0m\u001b[0;34m\u001b[0m\u001b[0m\n\u001b[0;32m--> 903\u001b[0;31m                 \u001b[0mself\u001b[0m\u001b[0;34m.\u001b[0m\u001b[0mfn\u001b[0m\u001b[0;34m(\u001b[0m\u001b[0;34m)\u001b[0m \u001b[0;32mif\u001b[0m \u001b[0moutput_subset\u001b[0m \u001b[0;32mis\u001b[0m \u001b[0;32mNone\u001b[0m \u001b[0;32melse\u001b[0m\u001b[0;31m\\\u001b[0m\u001b[0;34m\u001b[0m\u001b[0m\n\u001b[0m\u001b[1;32m    904\u001b[0m                 \u001b[0mself\u001b[0m\u001b[0;34m.\u001b[0m\u001b[0mfn\u001b[0m\u001b[0;34m(\u001b[0m\u001b[0moutput_subset\u001b[0m\u001b[0;34m=\u001b[0m\u001b[0moutput_subset\u001b[0m\u001b[0;34m)\u001b[0m\u001b[0;34m\u001b[0m\u001b[0m\n\u001b[1;32m    905\u001b[0m         \u001b[0;32mexcept\u001b[0m \u001b[0mException\u001b[0m\u001b[0;34m:\u001b[0m\u001b[0;34m\u001b[0m\u001b[0m\n",
      "\u001b[0;32mpygpu/gpuarray.pyx\u001b[0m in \u001b[0;36mpygpu.gpuarray.pygpu_empty\u001b[0;34m()\u001b[0m\n",
      "\u001b[0;32mpygpu/gpuarray.pyx\u001b[0m in \u001b[0;36mpygpu.gpuarray.array_empty\u001b[0;34m()\u001b[0m\n",
      "\u001b[0;31mGpuArrayException\u001b[0m: b'cuMemAlloc: CUDA_ERROR_OUT_OF_MEMORY: out of memory'\nApply node that caused the error: GpuDot22(GpuDot22.0, InplaceGpuDimShuffle{1,0}.0)\nToposort index: 9\nInputs types: [GpuArrayType<None>(float32, matrix), GpuArrayType<None>(float32, matrix)]\nInputs shapes: [(5000, 300), (300, 6599)]\nInputs strides: [(1200, 4), (4, 1200)]\nInputs values: ['not shown', 'not shown']\nOutputs clients: [[GpuElemwise{sub,no_inplace}(GpuDot22.0, GpuArrayConstant{[[0. 0. 0. ... 0. 0. 0.]\n [0. 0. 0. ... 0. 0. 0.]\n [0. 0. 0. ... 0. 0. 0.]\n ...\n [0. 0. 0. ... 0. 0. 0.]\n [0. 0. 0. ... 0. 0. 0.]\n [0. 0. 0. ... 0. 0. 0.]]})]]\n\nBacktrace when the node is created(use Theano flag traceback.limit=N to make it longer):\n  File \"/zfsauton/home/bpatra/miniconda3/lib/python3.6/site-packages/ipykernel/kernelbase.py\", line 399, in execute_request\n    user_expressions, allow_stdin)\n  File \"/zfsauton/home/bpatra/miniconda3/lib/python3.6/site-packages/ipykernel/ipkernel.py\", line 208, in do_execute\n    res = shell.run_cell(code, store_history=store_history, silent=silent)\n  File \"/zfsauton/home/bpatra/miniconda3/lib/python3.6/site-packages/ipykernel/zmqshell.py\", line 537, in run_cell\n    return super(ZMQInteractiveShell, self).run_cell(*args, **kwargs)\n  File \"/zfsauton/home/bpatra/miniconda3/lib/python3.6/site-packages/IPython/core/interactiveshell.py\", line 2662, in run_cell\n    raw_cell, store_history, silent, shell_futures)\n  File \"/zfsauton/home/bpatra/miniconda3/lib/python3.6/site-packages/IPython/core/interactiveshell.py\", line 2785, in _run_cell\n    interactivity=interactivity, compiler=compiler, result=result)\n  File \"/zfsauton/home/bpatra/miniconda3/lib/python3.6/site-packages/IPython/core/interactiveshell.py\", line 2901, in run_ast_nodes\n    if self.run_code(code, result):\n  File \"/zfsauton/home/bpatra/miniconda3/lib/python3.6/site-packages/IPython/core/interactiveshell.py\", line 2961, in run_code\n    exec(code_obj, self.user_global_ns, self.user_ns)\n  File \"<ipython-input-9-9ba9006b3274>\", line 29, in <module>\n    shared(Xt_numpy).T) - A)**2)\n  File \"/zfsauton/home/bpatra/miniconda3/lib/python3.6/site-packages/ipykernel/kernelbase.py\", line 399, in execute_request\n    user_expressions, allow_stdin)\n  File \"/zfsauton/home/bpatra/miniconda3/lib/python3.6/site-packages/ipykernel/ipkernel.py\", line 208, in do_execute\n    res = shell.run_cell(code, store_history=store_history, silent=silent)\n  File \"/zfsauton/home/bpatra/miniconda3/lib/python3.6/site-packages/ipykernel/zmqshell.py\", line 537, in run_cell\n    return super(ZMQInteractiveShell, self).run_cell(*args, **kwargs)\n  File \"/zfsauton/home/bpatra/miniconda3/lib/python3.6/site-packages/IPython/core/interactiveshell.py\", line 2662, in run_cell\n    raw_cell, store_history, silent, shell_futures)\n  File \"/zfsauton/home/bpatra/miniconda3/lib/python3.6/site-packages/IPython/core/interactiveshell.py\", line 2785, in _run_cell\n    interactivity=interactivity, compiler=compiler, result=result)\n  File \"/zfsauton/home/bpatra/miniconda3/lib/python3.6/site-packages/IPython/core/interactiveshell.py\", line 2901, in run_ast_nodes\n    if self.run_code(code, result):\n  File \"/zfsauton/home/bpatra/miniconda3/lib/python3.6/site-packages/IPython/core/interactiveshell.py\", line 2961, in run_code\n    exec(code_obj, self.user_global_ns, self.user_ns)\n  File \"<ipython-input-9-9ba9006b3274>\", line 29, in <module>\n    shared(Xt_numpy).T) - A)**2)\n\nHINT: Use the Theano flag 'exception_verbosity=high' for a debugprint and storage map footprint of this apply node."
     ]
    }
   ],
   "source": [
    "theta = solver.solve(problem)"
   ]
  },
  {
   "cell_type": "code",
   "execution_count": null,
   "metadata": {},
   "outputs": [],
   "source": [
    "Us, B, Ut = theta\n",
    "np.save(\"Us.npy\", arr=Us)\n",
    "np.save(\"B.npy\", arr=B)\n",
    "np.save(\"Ut.npy\", arr=Ut)"
   ]
  },
  {
   "cell_type": "code",
   "execution_count": null,
   "metadata": {},
   "outputs": [],
   "source": [
    "Us = np.load(\"Us.npy\")\n",
    "B = np.load(\"B.npy\")\n",
    "Ut = np.load(\"Ut.npy\")"
   ]
  },
  {
   "cell_type": "code",
   "execution_count": null,
   "metadata": {},
   "outputs": [],
   "source": [
    "# Transform the source and target embedding spaces\n",
    "# Us, B, Ut = Xopt\n",
    "u,s,vh = np.linalg.svd(B, full_matrices=True)\n",
    "b_sqrt = np.dot(u, np.dot(np.diag(np.sqrt(s)), vh))"
   ]
  },
  {
   "cell_type": "code",
   "execution_count": null,
   "metadata": {},
   "outputs": [],
   "source": [
    "# Source transform\n",
    "src_embeddings = to_numpy(languages[src].embeddings, gpu)\n",
    "tgt_embeddings = to_numpy(languages[tgt].embeddings, gpu)\n",
    "src_transform = np.dot(np.dot(src_embeddings, Us), b_sqrt)\n",
    "tgt_transform = np.dot(np.dot(tgt_embeddings, Ut), b_sqrt)"
   ]
  },
  {
   "cell_type": "code",
   "execution_count": null,
   "metadata": {},
   "outputs": [],
   "source": [
    "os.environ['CUDA_VISIBLE_DEVICES'] = '3'"
   ]
  },
  {
   "cell_type": "markdown",
   "metadata": {},
   "source": [
    "# NN Evaluation"
   ]
  },
  {
   "cell_type": "code",
   "execution_count": null,
   "metadata": {},
   "outputs": [],
   "source": [
    "csls = CSLS(src_transform, tgt_transform, gpu=True)"
   ]
  },
  {
   "cell_type": "code",
   "execution_count": null,
   "metadata": {},
   "outputs": [],
   "source": [
    "import evaluate as evl\n",
    "evaluator = evl.Evaluator(languages[src], languages[tgt], data_dir=\"data\")"
   ]
  },
  {
   "cell_type": "code",
   "execution_count": null,
   "metadata": {},
   "outputs": [],
   "source": [
    "metrics = evaluator.supervised(csls, {})"
   ]
  },
  {
   "cell_type": "code",
   "execution_count": null,
   "metadata": {},
   "outputs": [],
   "source": [
    "print(metrics)"
   ]
  },
  {
   "cell_type": "code",
   "execution_count": null,
   "metadata": {},
   "outputs": [],
   "source": [
    "manifold = Stiefel(5, 2)\n",
    "\n",
    "# (2) Define the cost function (here using autograd.numpy)\n",
    "def cost(X): return np.sum(X)\n",
    "\n",
    "problem = Problem(manifold=manifold, cost=cost)\n",
    "\n",
    "# (3) Instantiate a Pymanopt solver\n",
    "solver = SteepestDescent()\n",
    "\n",
    "# let Pymanopt do the rest\n",
    "Xopt = solver.solve(problem)\n",
    "print(Xopt)"
   ]
  },
  {
   "cell_type": "code",
   "execution_count": null,
   "metadata": {},
   "outputs": [],
   "source": []
  }
 ],
 "metadata": {
  "kernelspec": {
   "display_name": "Python 3",
   "language": "python",
   "name": "python3"
  },
  "language_info": {
   "codemirror_mode": {
    "name": "ipython",
    "version": 3
   },
   "file_extension": ".py",
   "mimetype": "text/x-python",
   "name": "python",
   "nbconvert_exporter": "python",
   "pygments_lexer": "ipython3",
   "version": "3.6.3"
  }
 },
 "nbformat": 4,
 "nbformat_minor": 2
}
