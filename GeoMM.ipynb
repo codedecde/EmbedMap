{
 "cells": [
  {
   "cell_type": "markdown",
   "metadata": {},
   "source": [
    "# Imports"
   ]
  },
  {
   "cell_type": "code",
   "execution_count": 1,
   "metadata": {},
   "outputs": [],
   "source": [
    "import numpy as np\n",
    "import os\n",
    "from collections import OrderedDict\n",
    "import io\n",
    "import pdb\n",
    "import csls as csls\n",
    "from data import Language, WordDictionary\n",
    "from utils import to_numpy, read_from_yaml, setup_output_dir\n",
    "import evaluate as evl\n",
    "import logging\n",
    "logger = logging.getLogger(__name__)"
   ]
  },
  {
   "cell_type": "markdown",
   "metadata": {},
   "source": [
    "# Load Config File"
   ]
  },
  {
   "cell_type": "code",
   "execution_count": 2,
   "metadata": {},
   "outputs": [
    {
     "name": "stdout",
     "output_type": "stream",
     "text": [
      "2018-10-21 21:10:52,690: INFO: Computing between language pairs en - zh\n"
     ]
    }
   ],
   "source": [
    "config_file = \"Configs/GeoMM/en-zh.yaml\"\n",
    "gpu = 0\n",
    "config = read_from_yaml(config_file)\n",
    "base_dir = config[\"base_dir\"]\n",
    "loglevel = \"INFO\"\n",
    "output_dir, config = setup_output_dir(base_dir, config, loglevel)\n",
    "src = config[\"src_lang\"]\n",
    "tgt = config[\"tgt_lang\"]\n",
    "BASE_DIR = config[\"base_data_dir\"]\n",
    "CROSSLINGUAL = os.path.join(BASE_DIR, \"crosslingual\", \"dictionaries\")\n",
    "\n",
    "logger.info(f\"Computing between language pairs {src} - {tgt}\")\n",
    "\n",
    "languages = OrderedDict()\n",
    "for lang in config[\"languages\"]:\n",
    "    name = lang.pop(\"name\")\n",
    "    filename = lang.pop(\"filename\")\n",
    "    lang_obj = Language(name, gpu, **lang)\n",
    "    lang_obj.load(filename, BASE_DIR)\n",
    "    languages[name] = lang_obj\n",
    "\n",
    "train_file = os.path.join(CROSSLINGUAL, f\"{src}-{tgt}.0-5000.txt\")\n",
    "training_mapping = WordDictionary(\n",
    "    languages[src], languages[tgt], train_file)"
   ]
  },
  {
   "cell_type": "markdown",
   "metadata": {},
   "source": [
    "# Training"
   ]
  },
  {
   "cell_type": "code",
   "execution_count": 3,
   "metadata": {},
   "outputs": [],
   "source": [
    "import pytorch_backend as prob\n",
    "import numpy as np\n",
    "from pymanopt.solvers import SteepestDescent, ConjugateGradient\n",
    "import torch\n",
    "from torch.autograd import Variable\n",
    "from torch import Tensor"
   ]
  },
  {
   "cell_type": "code",
   "execution_count": 4,
   "metadata": {},
   "outputs": [],
   "source": [
    "unique_src, src_indices = np.unique(training_mapping.word_map[:, 0], return_inverse=True)\n",
    "unique_tgt, tgt_indices = np.unique(training_mapping.word_map[:, 1], return_inverse=True)\n",
    "A = np.zeros((unique_src.shape[0], unique_tgt.shape[0]))\n",
    "for six, tix in zip(src_indices, tgt_indices):\n",
    "    A[six, tix] = 1\n",
    "# A : number of unique src tgt pairs.\n",
    "# A[i, j] is 1 unique_src[i] and unique_tgt[j] are aligned, 0 otherwise\n",
    "Xs = languages[src].get_embeddings(unique_src)\n",
    "Xt = languages[tgt].get_embeddings(unique_tgt)\n",
    "A = Variable(torch.FloatTensor(A))\n",
    "if gpu >= 0:\n",
    "    A = A.cuda(gpu)"
   ]
  },
  {
   "cell_type": "code",
   "execution_count": 5,
   "metadata": {},
   "outputs": [
    {
     "name": "stdout",
     "output_type": "stream",
     "text": [
      "2018-10-21 21:11:00,945: INFO: lambda\t1000\n",
      "2018-10-21 21:11:00,946: INFO: max_opt_time\t5000\n",
      "2018-10-21 21:11:00,947: INFO: max_opt_iter\t150\n",
      "Optimizing...\n",
      " iter\t\t   cost val\t    grad. norm\n",
      "    0\t+6.3568087500000000e+05\t4.67997423e+05\n",
      "    1\t+6.0555400000000000e+05\t3.30096297e+05\n",
      "    2\t+5.7116712500000000e+05\t2.01295336e+05\n",
      "    3\t+5.4059693750000000e+05\t2.34044983e+05\n",
      "    4\t+5.1778993750000000e+05\t1.30518509e+05\n",
      "    5\t+4.9891018750000000e+05\t1.01817164e+05\n",
      "    6\t+4.7530212500000000e+05\t1.53765406e+05\n",
      "    7\t+4.4971787500000000e+05\t8.48920195e+04\n",
      "    8\t+4.2900228125000000e+05\t6.67367397e+04\n",
      "    9\t+4.0634075000000000e+05\t1.10967817e+05\n",
      "   10\t+3.1201625000000000e+05\t1.60371593e+05\n",
      "   11\t+2.8461546875000000e+05\t5.37248358e+04\n",
      "   12\t+2.7371159375000000e+05\t3.68920306e+04\n",
      "   13\t+2.5580809375000000e+05\t4.11026909e+04\n",
      "   14\t+2.4773520312500000e+05\t3.84804492e+04\n",
      "   15\t+2.3480801562500000e+05\t3.02012639e+04\n",
      "   16\t+2.2165620312500000e+05\t2.81287545e+04\n",
      "   17\t+1.8903446875000000e+05\t3.26131730e+04\n",
      "   18\t+1.4630845312500000e+05\t5.35572740e+04\n",
      "   19\t+1.0436411718750000e+05\t2.08352528e+04\n",
      "   20\t+9.6676914062500000e+04\t1.37501642e+04\n",
      "   21\t+8.9275593750000000e+04\t1.64278792e+04\n",
      "   22\t+6.6846992187500000e+04\t1.64377478e+04\n",
      "   23\t+4.9842562500000000e+04\t1.58816571e+04\n",
      "   24\t+3.7051382812500000e+04\t6.21624401e+03\n",
      "   25\t+3.4748937500000000e+04\t3.58486728e+03\n",
      "   26\t+3.3686953125000000e+04\t3.04124838e+03\n",
      "   27\t+3.2518593750000000e+04\t2.91487963e+03\n",
      "   28\t+3.0082585937500000e+04\t3.56250713e+03\n",
      "   29\t+2.1484128906250000e+04\t5.42562040e+03\n",
      "   30\t+1.8390326171875000e+04\t1.92106575e+03\n",
      "   31\t+1.7674367187500000e+04\t1.80958763e+03\n",
      "   32\t+1.6023050781250000e+04\t1.35346715e+03\n",
      "   33\t+1.4285773437500000e+04\t2.36288382e+03\n",
      "   34\t+1.2362094726562500e+04\t1.56757300e+03\n",
      "   35\t+1.2108027343750000e+04\t7.24368897e+02\n",
      "   36\t+1.2017381835937500e+04\t4.81287984e+02\n",
      "   37\t+1.1915116210937500e+04\t4.23688115e+02\n",
      "   38\t+1.1727246093750000e+04\t5.21174667e+02\n",
      "   39\t+1.0952316406250000e+04\t7.24891950e+02\n",
      "   40\t+1.0437037109375000e+04\t5.67835051e+02\n",
      "   41\t+9.8958085937500000e+03\t4.02488242e+02\n",
      "   42\t+9.6380683593750000e+03\t2.38176808e+02\n",
      "   43\t+9.5273896484375000e+03\t1.43556330e+02\n",
      "   44\t+9.4366484375000000e+03\t1.68732240e+02\n",
      "   45\t+9.2169697265625000e+03\t2.56814848e+02\n",
      "   46\t+9.1004287109375000e+03\t6.81195661e+01\n",
      "   47\t+9.0851054687500000e+03\t5.50974628e+01\n",
      "   48\t+9.0623339843750000e+03\t5.47265367e+01\n",
      "   49\t+9.0004228515625000e+03\t7.17844169e+01\n",
      "   50\t+8.9125351562500000e+03\t9.68380001e+01\n",
      "   51\t+8.8476455078125000e+03\t4.32258203e+01\n",
      "   52\t+8.8335253906250000e+03\t2.70761591e+01\n",
      "   53\t+8.8185019531250000e+03\t2.14989022e+01\n",
      "   54\t+8.8025546875000000e+03\t2.53273231e+01\n",
      "   55\t+8.7614423828125000e+03\t3.19933754e+01\n",
      "   56\t+8.7467148437500000e+03\t1.90081277e+01\n",
      "   57\t+8.7411816406250000e+03\t1.33410973e+01\n",
      "   58\t+8.7372851562500000e+03\t1.00184226e+01\n",
      "   59\t+8.7343291015625000e+03\t9.56009133e+00\n",
      "   60\t+8.7273134765625000e+03\t1.19488669e+01\n",
      "   61\t+8.7179111328125000e+03\t1.73916549e+01\n",
      "   62\t+8.7110595703125000e+03\t1.52508785e+01\n",
      "   63\t+8.7051142578125000e+03\t1.42418844e+01\n",
      "   64\t+8.6991103515625000e+03\t9.99726029e+00\n",
      "   65\t+8.6956367187500000e+03\t5.96147452e+00\n",
      "   66\t+8.6933925781250000e+03\t7.66040961e+00\n",
      "   67\t+8.6906328125000000e+03\t6.86282672e+00\n",
      "   68\t+8.6895175781250000e+03\t4.98691441e+00\n",
      "   69\t+8.6886894531250000e+03\t3.74767937e+00\n",
      "   70\t+8.6877705078125000e+03\t4.02213052e+00\n",
      "   71\t+8.6867714843750000e+03\t4.42176716e+00\n",
      "   72\t+8.6862099609375000e+03\t2.90189648e+00\n",
      "   73\t+8.6859482421875000e+03\t2.35552557e+00\n",
      "   74\t+8.6855917968750000e+03\t2.19154156e+00\n",
      "   75\t+8.6852705078125000e+03\t3.02405105e+00\n",
      "   76\t+8.6847802734375000e+03\t3.09343534e+00\n",
      "   77\t+8.6842324218750000e+03\t3.78253119e+00\n",
      "   78\t+8.6832333984375000e+03\t4.29602021e+00\n",
      "   79\t+8.6825419921875000e+03\t3.17786970e+00\n",
      "   80\t+8.6818945312500000e+03\t4.94910930e+00\n",
      "   81\t+8.6813447265625000e+03\t3.37756835e+00\n",
      "   82\t+8.6810527343750000e+03\t2.92741525e+00\n",
      "   83\t+8.6807558593750000e+03\t2.11752485e+00\n",
      "   84\t+8.6806367187500000e+03\t1.54416026e+00\n",
      "   85\t+8.6805556640625000e+03\t1.21345424e+00\n",
      "   86\t+8.6804648437500000e+03\t1.66586089e+00\n",
      "   87\t+8.6803828125000000e+03\t1.12656379e+00\n",
      "   88\t+8.6802978515625000e+03\t1.40970376e+00\n",
      "   89\t+8.6801455078125000e+03\t1.63633230e+00\n",
      "   90\t+8.6799638671875000e+03\t1.78141574e+00\n",
      "   91\t+8.6798671875000000e+03\t1.26335879e+00\n",
      "   92\t+8.6797714843750000e+03\t1.40767660e+00\n",
      "   93\t+8.6795449218750000e+03\t2.66473973e+00\n",
      "   94\t+8.6792548828125000e+03\t2.52024245e+00\n",
      "   95\t+8.6790966796875000e+03\t1.85482878e+00\n",
      "   96\t+8.6789355468750000e+03\t1.98343771e+00\n",
      "   97\t+8.6788261718750000e+03\t1.24915165e+00\n",
      "   98\t+8.6787832031250000e+03\t8.72009755e-01\n",
      "   99\t+8.6787578125000000e+03\t7.43674653e-01\n",
      "  100\t+8.6787226562500000e+03\t7.47489159e-01\n",
      "  101\t+8.6786357421875000e+03\t1.67603029e+00\n",
      "  102\t+8.6785644531250000e+03\t7.81646854e-01\n",
      "  103\t+8.6785361328125000e+03\t9.41453419e-01\n",
      "  104\t+8.6785107421875000e+03\t5.44377465e-01\n",
      "  105\t+8.6784951171875000e+03\t6.63614044e-01\n",
      "  106\t+8.6784697265625000e+03\t7.03744454e-01\n",
      "  107\t+8.6784404296875000e+03\t1.01849573e+00\n",
      "  108\t+8.6783798828125000e+03\t1.01340748e+00\n",
      "  109\t+8.6783242187500000e+03\t1.25204173e+00\n",
      "  110\t+8.6782509765625000e+03\t1.52946562e+00\n",
      "  111\t+8.6781386718750000e+03\t1.66188354e+00\n",
      "  112\t+8.6780605468750000e+03\t1.21533365e+00\n",
      "  113\t+8.6780156250000000e+03\t7.72715854e-01\n",
      "  114\t+8.6779960937500000e+03\t6.33461900e-01\n",
      "  115\t+8.6779697265625000e+03\t7.58095116e-01\n",
      "  116\t+8.6779228515625000e+03\t8.73153785e-01\n",
      "  117\t+8.6778974609375000e+03\t5.76925115e-01\n",
      "  118\t+8.6778828125000000e+03\t4.52394498e-01\n",
      "  119\t+8.6778681640625000e+03\t5.52859411e-01\n",
      "  120\t+8.6778466796875000e+03\t7.47014474e-01\n",
      "  121\t+8.6778222656250000e+03\t8.41144375e-01\n",
      "  122\t+8.6777939453125000e+03\t8.41768844e-01\n",
      "  123\t+8.6777792968750000e+03\t5.16681868e-01\n",
      "  124\t+8.6777695312500000e+03\t4.33272995e-01\n",
      "  125\t+8.6777597656250000e+03\t4.63891882e-01\n",
      "  126\t+8.6777451171875000e+03\t5.96119927e-01\n",
      "  127\t+8.6777353515625000e+03\t3.36579037e-01\n",
      "  128\t+8.6777304687500000e+03\t3.13339407e-01\n",
      "  129\t+8.6777246093750000e+03\t3.44535378e-01\n",
      "  130\t+8.6777138671875000e+03\t4.46502759e-01\n",
      "  131\t+8.6777021484375000e+03\t5.58793626e-01\n",
      "  132\t+8.6776855468750000e+03\t6.31131035e-01\n",
      "  133\t+8.6776562500000000e+03\t6.68022200e-01\n",
      "  134\t+8.6776201171875000e+03\t8.19730889e-01\n",
      "  135\t+8.6775781250000000e+03\t1.12531464e+00\n",
      "  136\t+8.6775537109375000e+03\t6.82877048e-01\n",
      "  137\t+8.6775253906250000e+03\t6.84540599e-01\n",
      "  138\t+8.6774931640625000e+03\t1.00900800e+00\n",
      "  139\t+8.6774638671875000e+03\t6.30403276e-01\n",
      "  140\t+8.6774531250000000e+03\t5.29174534e-01\n",
      "  141\t+8.6774394531250000e+03\t5.59558489e-01\n",
      "  142\t+8.6774287109375000e+03\t3.84958039e-01\n",
      "  143\t+8.6774189453125000e+03\t4.46655732e-01\n",
      "  144\t+8.6773906250000000e+03\t1.01310506e+00\n",
      "  145\t+8.6773857421875000e+03\t7.45943762e-01\n",
      "  146\t+8.6773837890625000e+03\t5.82691062e-01\n",
      "  147\t+8.6773828125000000e+03\t5.24740345e-01\n",
      "  148\t+8.6773828125000000e+03\t5.24642976e-01\n",
      "  149\t+8.6773828125000000e+03\t5.24642460e-01\n",
      "Terminated - max iterations reached after 22.37 seconds.\n",
      "\n"
     ]
    }
   ],
   "source": [
    "training_params = config[\"training_params\"]\n",
    "for param in training_params:\n",
    "    value = training_params[param]\n",
    "    logger.info(f\"{param}\\t{value}\")\n",
    "lbda = training_params[\"lambda\"]\n",
    "manifold_learner = prob.GeomManifold(Xs, Xt, A, lbda, Xs.size(1), device=gpu)\n",
    "problem = prob.Problem(\n",
    "    manifold=manifold_learner.manifold,\n",
    "    cost=manifold_learner.cost,\n",
    "    egrad=manifold_learner.egrad)\n",
    "max_opt_time = training_params[\"max_opt_time\"]\n",
    "max_opt_iter = training_params[\"max_opt_iter\"]\n",
    "solver = ConjugateGradient(\n",
    "    maxtime=max_opt_time, maxiter=max_opt_iter)\n",
    "theta = solver.solve(problem)\n",
    "Us, B, Ut = theta"
   ]
  },
  {
   "cell_type": "markdown",
   "metadata": {},
   "source": [
    "# Save the matrices"
   ]
  },
  {
   "cell_type": "code",
   "execution_count": 6,
   "metadata": {},
   "outputs": [],
   "source": [
    "np.save(os.path.join(output_dir, \"Us.npy\"), arr=Us)\n",
    "np.save(os.path.join(output_dir, \"B.npy\"), arr=B)\n",
    "np.save(os.path.join(output_dir, \"Ut.npy\"), arr=Ut)"
   ]
  },
  {
   "cell_type": "markdown",
   "metadata": {},
   "source": [
    "# Transform to different spaces"
   ]
  },
  {
   "cell_type": "code",
   "execution_count": 7,
   "metadata": {},
   "outputs": [],
   "source": [
    "u,s,vh = np.linalg.svd(B, full_matrices=True)\n",
    "b_sqrt = np.dot(u, np.dot(np.diag(np.sqrt(s)), vh))\n",
    "src_embeddings = to_numpy(languages[src].embeddings, gpu >= 0)\n",
    "tgt_embeddings = to_numpy(languages[tgt].embeddings, gpu >= 0)\n",
    "src_transform = np.dot(np.dot(src_embeddings, Us), b_sqrt)\n",
    "tgt_transform = np.dot(np.dot(tgt_embeddings, Ut), b_sqrt)"
   ]
  },
  {
   "cell_type": "markdown",
   "metadata": {},
   "source": [
    "# NN Evaluation using CSLS"
   ]
  },
  {
   "cell_type": "code",
   "execution_count": 8,
   "metadata": {},
   "outputs": [],
   "source": [
    "csls_object = csls.CSLS(src_transform, tgt_transform, gpu_device=gpu)"
   ]
  },
  {
   "cell_type": "code",
   "execution_count": 9,
   "metadata": {},
   "outputs": [],
   "source": [
    "evaluator = evl.Evaluator(languages[src], languages[tgt], data_dir=\"data\")"
   ]
  },
  {
   "cell_type": "code",
   "execution_count": 10,
   "metadata": {},
   "outputs": [
    {
     "name": "stdout",
     "output_type": "stream",
     "text": [
      "2018-10-21 21:11:44,769: INFO: Using Mode: csls\n",
      "2018-10-21 21:11:44,939: INFO: Total: 1500, Precision@1: 48.33, @5: 70.13, @10: 75.20\n"
     ]
    }
   ],
   "source": [
    "metrics = evaluator.supervised(csls_object, {})"
   ]
  },
  {
   "cell_type": "code",
   "execution_count": 11,
   "metadata": {},
   "outputs": [
    {
     "name": "stdout",
     "output_type": "stream",
     "text": [
      "2018-10-21 21:11:46,888: INFO: Writing metrics to Experiments/GeoMM/run-3/metrics.json\n"
     ]
    },
    {
     "ename": "NameError",
     "evalue": "name 'json' is not defined",
     "output_type": "error",
     "traceback": [
      "\u001b[0;31m---------------------------------------------------------------------------\u001b[0m",
      "\u001b[0;31mNameError\u001b[0m                                 Traceback (most recent call last)",
      "\u001b[0;32m<ipython-input-11-3b7907184ae7>\u001b[0m in \u001b[0;36m<module>\u001b[0;34m()\u001b[0m\n\u001b[1;32m      1\u001b[0m \u001b[0mmetrics_file\u001b[0m \u001b[0;34m=\u001b[0m \u001b[0mos\u001b[0m\u001b[0;34m.\u001b[0m\u001b[0mpath\u001b[0m\u001b[0;34m.\u001b[0m\u001b[0mjoin\u001b[0m\u001b[0;34m(\u001b[0m\u001b[0moutput_dir\u001b[0m\u001b[0;34m,\u001b[0m \u001b[0;34m\"metrics.json\"\u001b[0m\u001b[0;34m)\u001b[0m\u001b[0;34m\u001b[0m\u001b[0m\n\u001b[1;32m      2\u001b[0m \u001b[0mlogger\u001b[0m\u001b[0;34m.\u001b[0m\u001b[0minfo\u001b[0m\u001b[0;34m(\u001b[0m\u001b[0;34mf\"Writing metrics to {metrics_file}\"\u001b[0m\u001b[0;34m)\u001b[0m\u001b[0;34m\u001b[0m\u001b[0m\n\u001b[0;32m----> 3\u001b[0;31m \u001b[0mjson\u001b[0m\u001b[0;34m.\u001b[0m\u001b[0mdump\u001b[0m\u001b[0;34m(\u001b[0m\u001b[0mmetrics\u001b[0m\u001b[0;34m,\u001b[0m \u001b[0mopen\u001b[0m\u001b[0;34m(\u001b[0m\u001b[0mmetrics_file\u001b[0m\u001b[0;34m,\u001b[0m \u001b[0;34m\"w\"\u001b[0m\u001b[0;34m)\u001b[0m\u001b[0;34m)\u001b[0m\u001b[0;34m\u001b[0m\u001b[0m\n\u001b[0m\u001b[1;32m      4\u001b[0m \u001b[0mlogger\u001b[0m\u001b[0;34m.\u001b[0m\u001b[0minfo\u001b[0m\u001b[0;34m(\u001b[0m\u001b[0;34m\"Done\"\u001b[0m\u001b[0;34m)\u001b[0m\u001b[0;34m\u001b[0m\u001b[0m\n",
      "\u001b[0;31mNameError\u001b[0m: name 'json' is not defined"
     ]
    }
   ],
   "source": [
    "metrics_file = os.path.join(output_dir, \"metrics.json\")\n",
    "logger.info(f\"Writing metrics to {metrics_file}\")\n",
    "json.dump(metrics, open(metrics_file, \"w\"))\n",
    "logger.info(\"Done\")"
   ]
  },
  {
   "cell_type": "code",
   "execution_count": null,
   "metadata": {},
   "outputs": [],
   "source": []
  }
 ],
 "metadata": {
  "kernelspec": {
   "display_name": "Python 3",
   "language": "python",
   "name": "python3"
  },
  "language_info": {
   "codemirror_mode": {
    "name": "ipython",
    "version": 3
   },
   "file_extension": ".py",
   "mimetype": "text/x-python",
   "name": "python",
   "nbconvert_exporter": "python",
   "pygments_lexer": "ipython3",
   "version": "3.6.3"
  }
 },
 "nbformat": 4,
 "nbformat_minor": 2
}
