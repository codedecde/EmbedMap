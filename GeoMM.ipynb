{
 "cells": [
  {
   "cell_type": "markdown",
   "metadata": {},
   "source": [
    "# Imports"
   ]
  },
  {
   "cell_type": "code",
   "execution_count": 1,
   "metadata": {},
   "outputs": [],
   "source": [
    "import numpy as np\n",
    "import os\n",
    "from collections import OrderedDict\n",
    "import io\n",
    "import pdb\n",
    "import csls as csls\n",
    "from data import Language, WordDictionary\n",
    "from utils import to_numpy, read_from_yaml, setup_output_dir\n",
    "import evaluate as evl\n",
    "import json\n",
    "import logging\n",
    "logger = logging.getLogger(__name__)"
   ]
  },
  {
   "cell_type": "markdown",
   "metadata": {},
   "source": [
    "# Load Config File"
   ]
  },
  {
   "cell_type": "code",
   "execution_count": 2,
   "metadata": {},
   "outputs": [
    {
     "name": "stdout",
     "output_type": "stream",
     "text": [
      "2018-10-21 21:20:22,100: INFO: Computing between language pairs ru - en\n"
     ]
    }
   ],
   "source": [
    "config_file = \"Configs/GeoMM/ru-en.yaml\"\n",
    "gpu = 0\n",
    "config = read_from_yaml(config_file)\n",
    "base_dir = config[\"base_dir\"]\n",
    "loglevel = \"INFO\"\n",
    "output_dir, config = setup_output_dir(base_dir, config, loglevel)\n",
    "src = config[\"src_lang\"]\n",
    "tgt = config[\"tgt_lang\"]\n",
    "BASE_DIR = config[\"base_data_dir\"]\n",
    "CROSSLINGUAL = os.path.join(BASE_DIR, \"crosslingual\", \"dictionaries\")\n",
    "\n",
    "logger.info(f\"Computing between language pairs {src} - {tgt}\")\n",
    "\n",
    "languages = OrderedDict()\n",
    "for lang in config[\"languages\"]:\n",
    "    name = lang.pop(\"name\")\n",
    "    filename = lang.pop(\"filename\")\n",
    "    lang_obj = Language(name, gpu, **lang)\n",
    "    lang_obj.load(filename, BASE_DIR)\n",
    "    languages[name] = lang_obj\n",
    "\n",
    "train_file = os.path.join(CROSSLINGUAL, f\"{src}-{tgt}.0-5000.txt\")\n",
    "training_mapping = WordDictionary(\n",
    "    languages[src], languages[tgt], train_file)"
   ]
  },
  {
   "cell_type": "markdown",
   "metadata": {},
   "source": [
    "# Training"
   ]
  },
  {
   "cell_type": "code",
   "execution_count": 3,
   "metadata": {},
   "outputs": [],
   "source": [
    "import pytorch_backend as prob\n",
    "import numpy as np\n",
    "from pymanopt.solvers import SteepestDescent, ConjugateGradient\n",
    "import torch\n",
    "from torch.autograd import Variable\n",
    "from torch import Tensor"
   ]
  },
  {
   "cell_type": "code",
   "execution_count": 4,
   "metadata": {},
   "outputs": [],
   "source": [
    "unique_src, src_indices = np.unique(training_mapping.word_map[:, 0], return_inverse=True)\n",
    "unique_tgt, tgt_indices = np.unique(training_mapping.word_map[:, 1], return_inverse=True)\n",
    "A = np.zeros((unique_src.shape[0], unique_tgt.shape[0]))\n",
    "for six, tix in zip(src_indices, tgt_indices):\n",
    "    A[six, tix] = 1\n",
    "# A : number of unique src tgt pairs.\n",
    "# A[i, j] is 1 unique_src[i] and unique_tgt[j] are aligned, 0 otherwise\n",
    "Xs = languages[src].get_embeddings(unique_src)\n",
    "Xt = languages[tgt].get_embeddings(unique_tgt)\n",
    "A = Variable(torch.FloatTensor(A))\n",
    "if gpu >= 0:\n",
    "    A = A.cuda(gpu)"
   ]
  },
  {
   "cell_type": "code",
   "execution_count": 5,
   "metadata": {},
   "outputs": [
    {
     "name": "stdout",
     "output_type": "stream",
     "text": [
      "2018-10-21 21:20:26,848: INFO: lambda\t1000\n",
      "2018-10-21 21:20:26,849: INFO: max_opt_time\t5000\n",
      "2018-10-21 21:20:26,850: INFO: max_opt_iter\t150\n",
      "Optimizing...\n",
      " iter\t\t   cost val\t    grad. norm\n",
      "    0\t+5.7918737500000000e+05\t9.38927023e+04\n",
      "    1\t+5.0748725000000000e+05\t7.18895624e+04\n",
      "    2\t+4.3028178125000000e+05\t7.46343520e+04\n",
      "    3\t+3.3312937500000000e+05\t5.28672279e+04\n",
      "    4\t+2.8713353125000000e+05\t3.73801743e+04\n",
      "    5\t+2.3570350000000000e+05\t3.01963540e+04\n",
      "    6\t+1.7714829687500000e+05\t2.47519831e+04\n",
      "    7\t+1.1170785156250000e+05\t1.46377182e+04\n",
      "    8\t+7.4323398437500000e+04\t1.44541237e+04\n",
      "    9\t+6.9524593750000000e+04\t8.22884803e+03\n",
      "   10\t+6.4452257812500000e+04\t6.88220923e+03\n",
      "   11\t+5.7427273437500000e+04\t6.28350241e+03\n",
      "   12\t+4.7237550781250000e+04\t6.83030507e+03\n",
      "   13\t+3.3331140625000000e+04\t3.09314734e+03\n",
      "   14\t+3.0336578125000000e+04\t2.67918319e+03\n",
      "   15\t+2.5941906250000000e+04\t2.16176736e+03\n",
      "   16\t+2.0553996093750000e+04\t1.53363905e+03\n",
      "   17\t+1.5481535156250000e+04\t9.45222321e+02\n",
      "   18\t+1.1860031250000000e+04\t5.62652088e+02\n",
      "   19\t+9.9125986328125000e+03\t6.26266913e+02\n",
      "   20\t+9.5370458984375000e+03\t2.73377396e+02\n",
      "   21\t+9.3530605468750000e+03\t2.35116527e+02\n",
      "   22\t+9.0782109375000000e+03\t2.01659350e+02\n",
      "   23\t+8.7027958984375000e+03\t1.74662931e+02\n",
      "   24\t+8.4938203125000000e+03\t2.10102964e+02\n",
      "   25\t+8.0822592773437500e+03\t8.81199607e+01\n",
      "   26\t+7.9464624023437500e+03\t7.64491168e+01\n",
      "   27\t+7.7850629882812500e+03\t8.75521963e+01\n",
      "   28\t+7.6713574218750000e+03\t3.68579206e+01\n",
      "   29\t+7.6204545898437500e+03\t3.06342759e+01\n",
      "   30\t+7.5582871093750000e+03\t2.97928124e+01\n",
      "   31\t+7.4990449218750000e+03\t1.90995639e+01\n",
      "   32\t+7.4765537109375000e+03\t1.44740566e+01\n",
      "   33\t+7.4503178710937500e+03\t1.21834206e+01\n",
      "   34\t+7.4319116210937500e+03\t1.06135038e+01\n",
      "   35\t+7.4243959960937500e+03\t6.44002354e+00\n",
      "   36\t+7.4208676757812500e+03\t5.28277785e+00\n",
      "   37\t+7.4165273437500000e+03\t4.73164585e+00\n",
      "   38\t+7.4109179687500000e+03\t6.60433498e+00\n",
      "   39\t+7.4028764648437500e+03\t3.61331435e+00\n",
      "   40\t+7.4005058593750000e+03\t3.32769997e+00\n",
      "   41\t+7.3981303710937500e+03\t2.39881669e+00\n",
      "   42\t+7.3963730468750000e+03\t4.50657010e+00\n",
      "   43\t+7.3937656250000000e+03\t2.74292613e+00\n",
      "   44\t+7.3929023437500000e+03\t2.23670370e+00\n",
      "   45\t+7.3925507812500000e+03\t1.47966098e+00\n",
      "   46\t+7.3923725585937500e+03\t1.02962628e+00\n",
      "   47\t+7.3922250976562500e+03\t9.45192071e-01\n",
      "   48\t+7.3918891601562500e+03\t1.48979073e+00\n",
      "   49\t+7.3910463867187500e+03\t2.16675073e+00\n",
      "   50\t+7.3904794921875000e+03\t2.54135476e+00\n",
      "   51\t+7.3900571289062500e+03\t1.61714536e+00\n",
      "   52\t+7.3898891601562500e+03\t1.03087021e+00\n",
      "   53\t+7.3897290039062500e+03\t6.95797914e-01\n",
      "   54\t+7.3896611328125000e+03\t6.96152364e-01\n",
      "   55\t+7.3895742187500000e+03\t5.56759283e-01\n",
      "   56\t+7.3894863281250000e+03\t1.00118415e+00\n",
      "   57\t+7.3894204101562500e+03\t5.99134782e-01\n",
      "   58\t+7.3893881835937500e+03\t6.05181320e-01\n",
      "   59\t+7.3893417968750000e+03\t5.42346262e-01\n",
      "   60\t+7.3892983398437500e+03\t4.52510688e-01\n",
      "   61\t+7.3892460937500000e+03\t8.26674140e-01\n",
      "   62\t+7.3890996093750000e+03\t1.06100661e+00\n",
      "   63\t+7.3889521484375000e+03\t9.32757578e-01\n",
      "   64\t+7.3888173828125000e+03\t8.30986758e-01\n",
      "   65\t+7.3887001953125000e+03\t6.66333407e-01\n",
      "   66\t+7.3886269531250000e+03\t5.63255669e-01\n",
      "   67\t+7.3885776367187500e+03\t4.47498246e-01\n",
      "   68\t+7.3885478515625000e+03\t3.46065171e-01\n",
      "   69\t+7.3885136718750000e+03\t5.27814438e-01\n",
      "   70\t+7.3884780273437500e+03\t3.89567079e-01\n",
      "   71\t+7.3884580078125000e+03\t3.45146270e-01\n",
      "   72\t+7.3884350585937500e+03\t2.97510770e-01\n",
      "   73\t+7.3884174804687500e+03\t2.18705455e-01\n",
      "   74\t+7.3884082031250000e+03\t2.02809097e-01\n",
      "   75\t+7.3883925781250000e+03\t2.63586817e-01\n",
      "   76\t+7.3883798828125000e+03\t2.53717612e-01\n",
      "   77\t+7.3883696289062500e+03\t2.23984624e-01\n",
      "   78\t+7.3883559570312500e+03\t2.10619566e-01\n",
      "   79\t+7.3883364257812500e+03\t3.49537003e-01\n",
      "   80\t+7.3882993164062500e+03\t5.53220232e-01\n",
      "   81\t+7.3882822265625000e+03\t3.23751184e-01\n",
      "   82\t+7.3882724609375000e+03\t3.12843185e-01\n",
      "   83\t+7.3882626953125000e+03\t2.03120578e-01\n",
      "   84\t+7.3882597656250000e+03\t1.26278662e-01\n",
      "   85\t+7.3882587890625000e+03\t1.02585228e-01\n",
      "   86\t+7.3882558593750000e+03\t9.28289629e-02\n",
      "   87\t+7.3882553710937500e+03\t8.80823261e-02\n",
      "   88\t+7.3882543945312500e+03\t8.58365036e-02\n",
      "   89\t+7.3882524414062500e+03\t1.00710238e-01\n",
      "   90\t+7.3882368164062500e+03\t2.50696667e-01\n",
      "   91\t+7.3882260742187500e+03\t2.57801551e-01\n",
      "   92\t+7.3882084960937500e+03\t3.51536241e-01\n",
      "   93\t+7.3881958007812500e+03\t3.32160532e-01\n",
      "   94\t+7.3881713867187500e+03\t3.65225714e-01\n",
      "   95\t+7.3881557617187500e+03\t3.26951971e-01\n",
      "   96\t+7.3881430664062500e+03\t2.15123873e-01\n",
      "   97\t+7.3881357421875000e+03\t2.15929616e-01\n",
      "   98\t+7.3881162109375000e+03\t2.64054563e-01\n",
      "   99\t+7.3881044921875000e+03\t2.50246868e-01\n",
      "  100\t+7.3880952148437500e+03\t1.59593103e-01\n",
      "  101\t+7.3880898437500000e+03\t1.58360125e-01\n",
      "  102\t+7.3880795898437500e+03\t1.93229630e-01\n",
      "  103\t+7.3880737304687500e+03\t1.49543085e-01\n",
      "  104\t+7.3880722656250000e+03\t9.97302501e-02\n",
      "  105\t+7.3880712890625000e+03\t1.09003475e-01\n",
      "  106\t+7.3880693359375000e+03\t6.57436111e-02\n",
      "  107\t+7.3880688476562500e+03\t6.30544019e-02\n",
      "  108\t+7.3880654296875000e+03\t8.70673071e-02\n",
      "  109\t+7.3880654296875000e+03\t8.70673071e-02\n",
      "Terminated - min stepsize reached after 110 iterations, 15.16 seconds.\n",
      "\n"
     ]
    }
   ],
   "source": [
    "training_params = config[\"training_params\"]\n",
    "for param in training_params:\n",
    "    value = training_params[param]\n",
    "    logger.info(f\"{param}\\t{value}\")\n",
    "lbda = training_params[\"lambda\"]\n",
    "manifold_learner = prob.GeomManifold(Xs, Xt, A, lbda, Xs.size(1), device=gpu)\n",
    "problem = prob.Problem(\n",
    "    manifold=manifold_learner.manifold,\n",
    "    cost=manifold_learner.cost,\n",
    "    egrad=manifold_learner.egrad)\n",
    "max_opt_time = training_params[\"max_opt_time\"]\n",
    "max_opt_iter = training_params[\"max_opt_iter\"]\n",
    "solver = ConjugateGradient(\n",
    "    maxtime=max_opt_time, maxiter=max_opt_iter)\n",
    "theta = solver.solve(problem)\n",
    "Us, B, Ut = theta"
   ]
  },
  {
   "cell_type": "markdown",
   "metadata": {},
   "source": [
    "# Save the matrices"
   ]
  },
  {
   "cell_type": "code",
   "execution_count": 6,
   "metadata": {},
   "outputs": [],
   "source": [
    "np.save(os.path.join(output_dir, \"Us.npy\"), arr=Us)\n",
    "np.save(os.path.join(output_dir, \"B.npy\"), arr=B)\n",
    "np.save(os.path.join(output_dir, \"Ut.npy\"), arr=Ut)"
   ]
  },
  {
   "cell_type": "markdown",
   "metadata": {},
   "source": [
    "# Transform to different spaces"
   ]
  },
  {
   "cell_type": "code",
   "execution_count": 7,
   "metadata": {},
   "outputs": [],
   "source": [
    "u,s,vh = np.linalg.svd(B, full_matrices=True)\n",
    "b_sqrt = np.dot(u, np.dot(np.diag(np.sqrt(s)), vh))\n",
    "src_embeddings = to_numpy(languages[src].embeddings, gpu >= 0)\n",
    "tgt_embeddings = to_numpy(languages[tgt].embeddings, gpu >= 0)\n",
    "src_transform = np.dot(np.dot(src_embeddings, Us), b_sqrt)\n",
    "tgt_transform = np.dot(np.dot(tgt_embeddings, Ut), b_sqrt)"
   ]
  },
  {
   "cell_type": "markdown",
   "metadata": {},
   "source": [
    "# NN Evaluation using CSLS"
   ]
  },
  {
   "cell_type": "code",
   "execution_count": 8,
   "metadata": {},
   "outputs": [],
   "source": [
    "csls_object = csls.CSLS(src_transform, tgt_transform, gpu_device=gpu)"
   ]
  },
  {
   "cell_type": "code",
   "execution_count": 9,
   "metadata": {},
   "outputs": [],
   "source": [
    "evaluator = evl.Evaluator(languages[src], languages[tgt], data_dir=\"data\")"
   ]
  },
  {
   "cell_type": "code",
   "execution_count": 10,
   "metadata": {},
   "outputs": [
    {
     "name": "stdout",
     "output_type": "stream",
     "text": [
      "2018-10-21 21:20:54,602: INFO: Using Mode: csls\n",
      "2018-10-21 21:20:54,777: INFO: Total: 1500, Precision@1: 67.93, @5: 81.60, @10: 84.60\n"
     ]
    }
   ],
   "source": [
    "metrics = evaluator.supervised(csls_object, {})"
   ]
  },
  {
   "cell_type": "code",
   "execution_count": 11,
   "metadata": {},
   "outputs": [
    {
     "name": "stdout",
     "output_type": "stream",
     "text": [
      "2018-10-21 21:20:54,918: INFO: Writing metrics to Experiments/GeoMM/run-5/metrics.json\n",
      "2018-10-21 21:20:54,931: INFO: Done\n"
     ]
    }
   ],
   "source": [
    "metrics_file = os.path.join(output_dir, \"metrics.json\")\n",
    "logger.info(f\"Writing metrics to {metrics_file}\")\n",
    "json.dump(metrics, open(metrics_file, \"w\"))\n",
    "logger.info(\"Done\")"
   ]
  },
  {
   "cell_type": "markdown",
   "metadata": {},
   "source": [
    "# Done"
   ]
  }
 ],
 "metadata": {
  "kernelspec": {
   "display_name": "Python 3",
   "language": "python",
   "name": "python3"
  },
  "language_info": {
   "codemirror_mode": {
    "name": "ipython",
    "version": 3
   },
   "file_extension": ".py",
   "mimetype": "text/x-python",
   "name": "python",
   "nbconvert_exporter": "python",
   "pygments_lexer": "ipython3",
   "version": "3.6.3"
  }
 },
 "nbformat": 4,
 "nbformat_minor": 2
}
